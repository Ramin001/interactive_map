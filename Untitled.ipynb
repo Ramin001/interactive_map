{
 "cells": [
  {
   "cell_type": "code",
   "execution_count": 47,
   "id": "124154b3",
   "metadata": {},
   "outputs": [],
   "source": [
    "#transfrom raw data containing point characteristics into shapefile to be used as an input of a map, using epsg=4326 \n",
    "def transform_raw_data(data, lat_col, lng_col):\n",
    "    import geopandas\n",
    "\n",
    "    g_data = geopandas.GeoDataFrame(\n",
    "        data, geometry=geopandas.points_from_xy(data[lng_col], data[lat_col])).set_crs(epsg=4326)\n",
    "    return g_data\n",
    "\n",
    "\n",
    "#add data points on the map in clusters.\n",
    "def add_points_to_map(map_instance, g_data, popup_col):\n",
    "    import folium\n",
    "    from folium.plugins import MarkerCluster\n",
    "    \n",
    "    marker_cluster = MarkerCluster().add_to(map_instance)\n",
    "\n",
    "    for idx, row in g_data.iterrows():\n",
    "        lon = row['geometry'].x\n",
    "        lat = row['geometry'].y\n",
    "\n",
    "        # Information to show\n",
    "        popup = row[popup_col]\n",
    "\n",
    "        # Add marker to the map\n",
    "        marker_cluster.add_child(folium.Marker(location = [lat, lon],\n",
    "                                popup = popup,\n",
    "                                icon = folium.Icon(color='red'))\n",
    "                                )\n",
    "        #save output\n",
    "        map_instance.save('base_map.html')\n",
    "    \n",
    "    return map_instance\n"
   ]
  },
  {
   "cell_type": "code",
   "execution_count": 48,
   "id": "01b0756a",
   "metadata": {},
   "outputs": [],
   "source": [
    "#add borders\n",
    "def add_border(map_instance, shp_file_address):\n",
    "    import geopandas\n",
    "    borders_shp = geopandas.read_file(shp_file_address)\n",
    "\n",
    "    bordersStyle = {\n",
    "        'color': 'red',\n",
    "        'weight': 1,\n",
    "        'fillColor': 'red',\n",
    "        'fillOpacity': 0.1\n",
    "    }\n",
    "    folium.GeoJson(\n",
    "        data=borders_shp,\n",
    "        name=\"borders\",\n",
    "        style_function=lambda x: bordersStyle).add_to(map_instance)\n",
    "    return map_instance"
   ]
  },
  {
   "cell_type": "code",
   "execution_count": 49,
   "id": "97e3fe68",
   "metadata": {},
   "outputs": [],
   "source": [
    "import pandas as pd \n",
    "import folium\n",
    "# Create a Map instance\n",
    "my_map = folium.Map(location=[32.7, 53.1], tiles='stamenwatercolor',\n",
    "                   zoom_start=6, min_zoom=6, control_scale=True, prefer_canvas=True)\n",
    "#other suitable tiles: 'Mapbox Bright', 'stamenwatercolor', 'cartodbpositron', 'stamentoner'\n",
    "\n",
    "data = pd.read_excel(\"data_test.xlsx\")    \n",
    "geodata = transform_raw_data(data, 'lat', 'lng')\n",
    "my_map = add_border(my_map, './Iran_Shapefiles/Shahrestan.shp')\n",
    "my_map = add_points_to_map(my_map, geodata, 'name')\n",
    "my_map.save('base_map.html')"
   ]
  },
  {
   "cell_type": "code",
   "execution_count": 24,
   "id": "6f11751c",
   "metadata": {},
   "outputs": [
    {
     "data": {
      "text/html": [
       "<div>\n",
       "<style scoped>\n",
       "    .dataframe tbody tr th:only-of-type {\n",
       "        vertical-align: middle;\n",
       "    }\n",
       "\n",
       "    .dataframe tbody tr th {\n",
       "        vertical-align: top;\n",
       "    }\n",
       "\n",
       "    .dataframe thead th {\n",
       "        text-align: right;\n",
       "    }\n",
       "</style>\n",
       "<table border=\"1\" class=\"dataframe\">\n",
       "  <thead>\n",
       "    <tr style=\"text-align: right;\">\n",
       "      <th></th>\n",
       "      <th>name</th>\n",
       "      <th>lat</th>\n",
       "      <th>lng</th>\n",
       "      <th>geometry</th>\n",
       "    </tr>\n",
       "  </thead>\n",
       "  <tbody>\n",
       "    <tr>\n",
       "      <th>0</th>\n",
       "      <td>one</td>\n",
       "      <td>35.716413</td>\n",
       "      <td>51.292027</td>\n",
       "      <td>POINT (51.29203 35.71641)</td>\n",
       "    </tr>\n",
       "    <tr>\n",
       "      <th>1</th>\n",
       "      <td>two</td>\n",
       "      <td>35.724775</td>\n",
       "      <td>51.355198</td>\n",
       "      <td>POINT (51.35520 35.72478)</td>\n",
       "    </tr>\n",
       "    <tr>\n",
       "      <th>2</th>\n",
       "      <td>three</td>\n",
       "      <td>35.578592</td>\n",
       "      <td>51.196583</td>\n",
       "      <td>POINT (51.19658 35.57859)</td>\n",
       "    </tr>\n",
       "  </tbody>\n",
       "</table>\n",
       "</div>"
      ],
      "text/plain": [
       "    name        lat        lng                   geometry\n",
       "0    one  35.716413  51.292027  POINT (51.29203 35.71641)\n",
       "1    two  35.724775  51.355198  POINT (51.35520 35.72478)\n",
       "2  three  35.578592  51.196583  POINT (51.19658 35.57859)"
      ]
     },
     "execution_count": 24,
     "metadata": {},
     "output_type": "execute_result"
    }
   ],
   "source": [
    "data"
   ]
  },
  {
   "cell_type": "code",
   "execution_count": null,
   "id": "a850147c",
   "metadata": {},
   "outputs": [],
   "source": []
  }
 ],
 "metadata": {
  "kernelspec": {
   "display_name": "Python 3 (ipykernel)",
   "language": "python",
   "name": "python3"
  },
  "language_info": {
   "codemirror_mode": {
    "name": "ipython",
    "version": 3
   },
   "file_extension": ".py",
   "mimetype": "text/x-python",
   "name": "python",
   "nbconvert_exporter": "python",
   "pygments_lexer": "ipython3",
   "version": "3.9.12"
  }
 },
 "nbformat": 4,
 "nbformat_minor": 5
}
